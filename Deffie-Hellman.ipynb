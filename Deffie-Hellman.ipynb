{
 "cells": [
  {
   "cell_type": "markdown",
   "metadata": {},
   "source": [
    "### Diffie-Hellman Key Exchange Algorithm"
   ]
  },
  {
   "cell_type": "code",
   "execution_count": 1,
   "metadata": {},
   "outputs": [
    {
     "name": "stdout",
     "output_type": "stream",
     "text": [
      "Enter a prime number(q): 17\n",
      "Enter a prime number that is primitive root of q: 11\n",
      "xa: 11\n",
      "xb: 3\n",
      "ya: 12\n",
      "yb: 5\n",
      "Ka: 11\n",
      "Kb: 11\n",
      "Secret key generated and key is, K = 11\n"
     ]
    }
   ],
   "source": [
    "import pyinputplus as pyip\n",
    "import math, random\n",
    "\n",
    "# checking input is prime or not\n",
    "def is_prime(n):\n",
    "    count = 0\n",
    "    for i in range(1, n + 1):\n",
    "        if n % i == 0:\n",
    "            count += 1\n",
    "    if count == 2:\n",
    "        return True\n",
    "    else:\n",
    "        return False\n",
    "    \n",
    "# user inputs a prime number that is to be shared\n",
    "while True:\n",
    "    q = pyip.inputNum(\"Enter a prime number(q): \")\n",
    "    a = pyip.inputNum(\"Enter a prime number that is primitive root of q: \", lessThan = q)\n",
    "    if is_prime(q) and is_prime(a):\n",
    "        break\n",
    "        \n",
    "# Alice generates a private key xa such that xa < q\n",
    "xa = random.randint(1, q)\n",
    "print(f\"xa: {xa}\")\n",
    "\n",
    "# Bob generates a private key xb such that xb < q\n",
    "xb = random.randint(1, q)\n",
    "print(f\"xb: {xb}\")\n",
    "\n",
    "# Alice calculates a public key\n",
    "ya = (a ** xa) % q\n",
    "print(f\"ya: {ya}\")\n",
    "\n",
    "# Bob calculates a public key\n",
    "yb = (a ** xb) % q\n",
    "print(f\"yb: {yb}\")\n",
    "\n",
    "# Alice calculates shared secret key using Bob's public key\n",
    "Ka = (yb ** xa) % q\n",
    "print(f\"Ka: {Ka}\")\n",
    "\n",
    "# Bob calculates shared secret key using Alice's public key\n",
    "Kb = (ya ** xb) % q\n",
    "print(f\"Kb: {Kb}\")\n",
    "\n",
    "if Ka == Kb:\n",
    "    print(f\"Secret key generated and key is, K = {Ka}\")\n"
   ]
  },
  {
   "cell_type": "code",
   "execution_count": null,
   "metadata": {},
   "outputs": [],
   "source": []
  }
 ],
 "metadata": {
  "@webio": {
   "lastCommId": null,
   "lastKernelId": null
  },
  "kernelspec": {
   "display_name": "Python 3",
   "language": "python",
   "name": "python3"
  },
  "language_info": {
   "codemirror_mode": {
    "name": "ipython",
    "version": 3
   },
   "file_extension": ".py",
   "mimetype": "text/x-python",
   "name": "python",
   "nbconvert_exporter": "python",
   "pygments_lexer": "ipython3",
   "version": "3.7.3"
  }
 },
 "nbformat": 4,
 "nbformat_minor": 2
}
