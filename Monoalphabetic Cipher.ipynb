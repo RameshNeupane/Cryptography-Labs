{
 "cells": [
  {
   "cell_type": "markdown",
   "metadata": {},
   "source": [
    "## Monoalphabetic Cipher "
   ]
  },
  {
   "cell_type": "code",
   "execution_count": 4,
   "metadata": {},
   "outputs": [
    {
     "name": "stdout",
     "output_type": "stream",
     "text": [
      "Enter the message: donotlethimin\n",
      "Cipher Text: DHSHVGFVZQOQS\n"
     ]
    }
   ],
   "source": [
    "alphabet_string = \"ABCDEFGHIJKLMNOPQRSTUVWXYZ\"\n",
    "alphabet_array = list(alphabet_string)\n",
    "\n",
    "key_string = \"EACDFTPZQKBGOSHMIUJVLWNXRY\"\n",
    "key_array = list(key_string)\n",
    "\n",
    "message = input(\"Enter the message: \").upper()\n",
    "encrypted_msg_list = []\n",
    "for i in range(len(message)):\n",
    "    index = alphabet_array.index(message[i])\n",
    "    encrypted_msg_list.append(key_array[index])\n",
    "                         \n",
    "encrypted_msg = ''.join(encrypted_msg_list)\n",
    "print(f'Cipher Text: {encrypted_msg}')"
   ]
  },
  {
   "cell_type": "code",
   "execution_count": null,
   "metadata": {},
   "outputs": [],
   "source": []
  }
 ],
 "metadata": {
  "kernelspec": {
   "display_name": "Python 3",
   "language": "python",
   "name": "python3"
  },
  "language_info": {
   "codemirror_mode": {
    "name": "ipython",
    "version": 3
   },
   "file_extension": ".py",
   "mimetype": "text/x-python",
   "name": "python",
   "nbconvert_exporter": "python",
   "pygments_lexer": "ipython3",
   "version": "3.7.3"
  }
 },
 "nbformat": 4,
 "nbformat_minor": 2
}
