{
 "cells": [
  {
   "cell_type": "markdown",
   "metadata": {},
   "source": [
    "### Implementation of Eclidean Algorithm and Totient Function"
   ]
  },
  {
   "cell_type": "code",
   "execution_count": 1,
   "metadata": {},
   "outputs": [
    {
     "name": "stdout",
     "output_type": "stream",
     "text": [
      "Enter two numbers: \n",
      "\n",
      "100\n",
      "20\n",
      "GCD(100, 20) is: 20\n",
      "Totient(20) are: [3, 7, 9, 11, 13, 17, 19]\n"
     ]
    }
   ],
   "source": [
    "import pyinputplus as pyip\n",
    "\n",
    "def gcd(a, b):\n",
    "    if a < b:\n",
    "        temp = a\n",
    "        a = b\n",
    "        b= temp\n",
    "    while True:\n",
    "        r = a % b\n",
    "        if r == 0:\n",
    "            return b\n",
    "        else:\n",
    "            a = b\n",
    "            b = r\n",
    "\n",
    "print(\"Enter two numbers: \\n\")\n",
    "a = pyip.inputNum()\n",
    "b = pyip.inputNum()\n",
    "g = gcd(a, b)\n",
    "print(f\"GCD({a}, {b}) is: {g}\")\n",
    "totient = []\n",
    "for i in range(2, g):\n",
    "    if gcd(g, i) == 1:\n",
    "        totient.append(i)\n",
    "print(f\"Totient({g}) are: {totient}\")\n"
   ]
  },
  {
   "cell_type": "code",
   "execution_count": null,
   "metadata": {},
   "outputs": [],
   "source": []
  }
 ],
 "metadata": {
  "kernelspec": {
   "display_name": "Python 3",
   "language": "python",
   "name": "python3"
  },
  "language_info": {
   "codemirror_mode": {
    "name": "ipython",
    "version": 3
   },
   "file_extension": ".py",
   "mimetype": "text/x-python",
   "name": "python",
   "nbconvert_exporter": "python",
   "pygments_lexer": "ipython3",
   "version": "3.7.3"
  }
 },
 "nbformat": 4,
 "nbformat_minor": 2
}
