{
 "cells": [
  {
   "cell_type": "code",
   "execution_count": 1,
   "metadata": {},
   "outputs": [],
   "source": [
    "import hashlib"
   ]
  },
  {
   "cell_type": "code",
   "execution_count": 3,
   "metadata": {},
   "outputs": [
    {
     "data": {
      "text/plain": [
       "{'blake2b',\n",
       " 'blake2s',\n",
       " 'md5',\n",
       " 'sha1',\n",
       " 'sha224',\n",
       " 'sha256',\n",
       " 'sha384',\n",
       " 'sha3_224',\n",
       " 'sha3_256',\n",
       " 'sha3_384',\n",
       " 'sha3_512',\n",
       " 'sha512',\n",
       " 'shake_128',\n",
       " 'shake_256'}"
      ]
     },
     "execution_count": 3,
     "metadata": {},
     "output_type": "execute_result"
    }
   ],
   "source": [
    "hashlib.algorithms_guaranteed"
   ]
  },
  {
   "cell_type": "code",
   "execution_count": 4,
   "metadata": {},
   "outputs": [
    {
     "data": {
      "text/plain": [
       "{'blake2b',\n",
       " 'blake2b512',\n",
       " 'blake2s',\n",
       " 'blake2s256',\n",
       " 'md4',\n",
       " 'md5',\n",
       " 'md5-sha1',\n",
       " 'mdc2',\n",
       " 'ripemd160',\n",
       " 'sha1',\n",
       " 'sha224',\n",
       " 'sha256',\n",
       " 'sha3-224',\n",
       " 'sha3-256',\n",
       " 'sha3-384',\n",
       " 'sha3-512',\n",
       " 'sha384',\n",
       " 'sha3_224',\n",
       " 'sha3_256',\n",
       " 'sha3_384',\n",
       " 'sha3_512',\n",
       " 'sha512',\n",
       " 'sha512-224',\n",
       " 'sha512-256',\n",
       " 'shake128',\n",
       " 'shake256',\n",
       " 'shake_128',\n",
       " 'shake_256',\n",
       " 'sm3',\n",
       " 'whirlpool'}"
      ]
     },
     "execution_count": 4,
     "metadata": {},
     "output_type": "execute_result"
    }
   ],
   "source": [
    "hashlib.algorithms_available"
   ]
  },
  {
   "cell_type": "markdown",
   "metadata": {},
   "source": [
    "## SHA - 1"
   ]
  },
  {
   "cell_type": "code",
   "execution_count": 18,
   "metadata": {},
   "outputs": [
    {
     "name": "stdout",
     "output_type": "stream",
     "text": [
      "SHA-1 hash message digest: \n",
      "c82de6533d099b5ed682666d36508fbeae3938f0\n",
      "\n",
      "SHA-224 hash message digest: \n",
      "014c3b32d230ad41043a6280b730036c29eddebd8b48dd5c43c7dbd5\n",
      "\n",
      "SHA-256 hash message digest: \n",
      "16eace83de2cf7407e465f20ef9d6ad91a9e01d87562cd04367825803011bbc5\n",
      "\n",
      "SHA-384 hash message digest: \n",
      "afee757180208bed217be52854995ddf519338606a751e58e2bdaf07ef18c8bd8ada9899bfd41c170619b15d1c62008e28b0826031c1e047a548f9bc509edac3\n",
      "\n",
      "SHA-512 hash message digest: \n",
      "6a298948dfef622a831e5f105610bd4ac6ec7af5fbac59a69384571215f27019fb617b582e50947fe81c978acc5fc3fbefcbe46abaca4bd84af698f10cd93f4f\n",
      "\n",
      "MD-5 hash message digest: \n",
      "3fab61542786c2190372b9cb71b1d87a\n"
     ]
    }
   ],
   "source": [
    "import hashlib\n",
    "\n",
    "message = \"Sagarmatha College of Science and Technology\"\n",
    "\n",
    "# SHA-1\n",
    "sha1 = hashlib.sha1(message.encode())\n",
    "print(f\"SHA-1 hash message digest: \\n{sha1.hexdigest()}\")\n",
    "\n",
    "# SHA-224\n",
    "sha224 = hashlib.sha224(message.encode())\n",
    "print(f\"\\nSHA-224 hash message digest: \\n{sha224.hexdigest()}\")\n",
    "\n",
    "# SHA-256\n",
    "sha256 = hashlib.sha256(message.encode())\n",
    "print(f\"\\nSHA-256 hash message digest: \\n{sha256.hexdigest()}\")\n",
    "\n",
    "# SHA-384\n",
    "sha384 = hashlib.sha384(message.encode())\n",
    "print(f\"\\nSHA-384 hash message digest: \\n{sha512.hexdigest()}\")\n",
    "\n",
    "# SHA-512\n",
    "sha512 = hashlib.sha512(message.encode())\n",
    "print(f\"\\nSHA-512 hash message digest: \\n{sha512.hexdigest()}\")\n",
    "\n",
    "# MD-5\n",
    "md5 = hashlib.md5(message.encode())\n",
    "print(f\"\\nMD-5 hash message digest: \\n{md5.hexdigest()}\")\n"
   ]
  },
  {
   "cell_type": "code",
   "execution_count": null,
   "metadata": {},
   "outputs": [],
   "source": []
  },
  {
   "cell_type": "code",
   "execution_count": null,
   "metadata": {},
   "outputs": [],
   "source": []
  }
 ],
 "metadata": {
  "kernelspec": {
   "display_name": "Python 3",
   "language": "python",
   "name": "python3"
  },
  "language_info": {
   "codemirror_mode": {
    "name": "ipython",
    "version": 3
   },
   "file_extension": ".py",
   "mimetype": "text/x-python",
   "name": "python",
   "nbconvert_exporter": "python",
   "pygments_lexer": "ipython3",
   "version": "3.7.3"
  }
 },
 "nbformat": 4,
 "nbformat_minor": 2
}
