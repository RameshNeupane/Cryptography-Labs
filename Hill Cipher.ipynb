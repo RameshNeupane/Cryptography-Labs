{
 "cells": [
  {
   "cell_type": "markdown",
   "metadata": {},
   "source": [
    "### Hill Cipher"
   ]
  },
  {
   "cell_type": "code",
   "execution_count": 8,
   "metadata": {},
   "outputs": [
    {
     "name": "stdout",
     "output_type": "stream",
     "text": [
      "Enter the key string of 4 alphabets: hell\n",
      "Enter the message of even size ie. 2, 4, 6, etc.: fcukings\n",
      "Cipher text: FQQIRTGO\n"
     ]
    }
   ],
   "source": [
    "import numpy as np\n",
    "from pyinputplus import inputStr\n",
    "\n",
    "key_string = inputStr(\"Enter the key string of 4 alphabets: \").upper()\n",
    "key_string_list = list(key_string)\n",
    "key_map_string = 'ABCDEFGHIJKLMNOPQRSTUVWXYZ'\n",
    "key_list = []\n",
    "for e in key_string_list:\n",
    "    if e in key_map_string:\n",
    "        indx = key_map_string.index(e)\n",
    "        key_list.append(indx)\n",
    "key_matrix = np.reshape(key_list, (2, 2))\n",
    "\n",
    "msg = inputStr(\"Enter the message of even size ie. 2, 4, 6, etc.: \").upper()\n",
    "msg = list(msg)\n",
    "\n",
    "cipher_text = []\n",
    "for i in range(0, len(msg), 2):\n",
    "    p = []\n",
    "    for j in range(2):\n",
    "        alphabet_index = key_map_string.index(msg[i + j])\n",
    "        p.append(alphabet_index)\n",
    "    p_matrix = np.array(p)\n",
    "    c_matrix = p_matrix.dot(key_matrix)\n",
    "\n",
    "    for j in range(2):\n",
    "        indx = c_matrix[j] % 26\n",
    "        e = key_map_string[indx]\n",
    "        cipher_text.append(e)\n",
    "\n",
    "cipher_text = ''.join(cipher_text)\n",
    "print(f\"Cipher text: {cipher_text}\")    "
   ]
  },
  {
   "cell_type": "code",
   "execution_count": null,
   "metadata": {},
   "outputs": [],
   "source": []
  }
 ],
 "metadata": {
  "kernelspec": {
   "display_name": "Python 3",
   "language": "python",
   "name": "python3"
  },
  "language_info": {
   "codemirror_mode": {
    "name": "ipython",
    "version": 3
   },
   "file_extension": ".py",
   "mimetype": "text/x-python",
   "name": "python",
   "nbconvert_exporter": "python",
   "pygments_lexer": "ipython3",
   "version": "3.7.3"
  }
 },
 "nbformat": 4,
 "nbformat_minor": 2
}
