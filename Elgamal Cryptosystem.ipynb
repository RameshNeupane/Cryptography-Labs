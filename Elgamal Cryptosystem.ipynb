{
 "cells": [
  {
   "cell_type": "markdown",
   "metadata": {},
   "source": [
    "## Implementation of Elgamal Cryptosystem"
   ]
  },
  {
   "cell_type": "code",
   "execution_count": 2,
   "metadata": {},
   "outputs": [
    {
     "name": "stdout",
     "output_type": "stream",
     "text": [
      "Enter a prime number(q): 23\n",
      "Primitive roots: [5, 7, 10, 11, 14, 15, 17, 19, 20, 21]\n",
      "a: 17\n",
      "Enter plaintext (ie. a number): 17\n",
      "Ciphertext: [6, 20]\n",
      "K_inv: 2\n",
      "Plaintext: 17\n"
     ]
    }
   ],
   "source": [
    "import pyinputplus as pyip\n",
    "import math, random\n",
    "\n",
    "# checking input is prime or not\n",
    "def is_prime(n):\n",
    "    count = 0\n",
    "    for i in range(1, n + 1):\n",
    "        if n % i == 0:\n",
    "            count += 1\n",
    "    if count == 2:\n",
    "        return True\n",
    "    else:\n",
    "        return False\n",
    "\n",
    "# Calculation of primitive roots\n",
    "def calc_primitive_roots(p):\n",
    "    primitive_roots = []\n",
    "    for a in range(2, p):\n",
    "        r = []\n",
    "        for i in range(1, p):\n",
    "            a_r = (a ** i) % p\n",
    "            if a_r not in r:\n",
    "                r.append(a_r)\n",
    "            else:\n",
    "                break\n",
    "        if len(r) == p - 1:\n",
    "            primitive_roots.append(a)\n",
    "    return primitive_roots\n",
    "    \n",
    "# Calculating multiplicative inverse of K\n",
    "def mul_inv(K, q):\n",
    "    for i in range(2, K):\n",
    "        if (K * i) % q == 1:\n",
    "            return i\n",
    "    \n",
    "# user inputs a prime number that is to be shared\n",
    "while True:\n",
    "    q = pyip.inputNum(\"Enter a prime number(q): \")\n",
    "    if(not is_prime(q)):\n",
    "        print(f\"{q} is not a prime.\")\n",
    "    else:\n",
    "        break\n",
    "# primitive roots\n",
    "primitive_roots = calc_primitive_roots(q)\n",
    "print(f\"Primitive roots: {primitive_roots}\")\n",
    "a = random.choice(primitive_roots)\n",
    "print(f\"a: {a}\")\n",
    "        \n",
    "# Key generation by Alice\n",
    "Xa = random.randint(1, q - 1)\n",
    "Ya = (a ** Xa) % q\n",
    "Public_key = [q, a, Ya]\n",
    "Private_key = Xa\n",
    "\n",
    "# Encryption by Bob with ALice's public key\n",
    "M = pyip.inputNum(\"Enter plaintext (ie. a number): \", lessThan = q)\n",
    "while True:\n",
    "    k = random.randint(1, q)\n",
    "    K = (Ya ** k) % q\n",
    "    C1 = (a ** k) % q\n",
    "    C2 = (K * M) % q\n",
    "    Cipher_text = [C1, C2]\n",
    "    \n",
    "    # Decryption by Alice with Alice's private key\n",
    "    K = (C1 ** Xa) % q\n",
    "    K_inv = mul_inv(K, q)\n",
    "    if K_inv != None:\n",
    "        break\n",
    "Plaintext = (C2 * K_inv) % q\n",
    "print(f\"Ciphertext: {Cipher_text}\")\n",
    "print(f\"K_inv: {K_inv}\")\n",
    "print(f\"Plaintext: {Plaintext}\")"
   ]
  },
  {
   "cell_type": "markdown",
   "metadata": {},
   "source": [
    "### Calculating primitive roots"
   ]
  },
  {
   "cell_type": "code",
   "execution_count": 3,
   "metadata": {},
   "outputs": [
    {
     "name": "stdout",
     "output_type": "stream",
     "text": [
      "Enter a prime number: 19\n",
      "r: [2, 4, 8, 16, 13, 7, 14, 9, 18, 17, 15, 11, 3, 6, 12, 5, 10, 1]\n",
      "r: [3, 9, 8, 5, 15, 7, 2, 6, 18, 16, 10, 11, 14, 4, 12, 17, 13, 1]\n",
      "r: [4, 16, 7, 9, 17, 11, 6, 5, 1]\n",
      "r: [5, 6, 11, 17, 9, 7, 16, 4, 1]\n",
      "r: [6, 17, 7, 4, 5, 11, 9, 16, 1]\n",
      "r: [7, 11, 1]\n",
      "r: [8, 7, 18, 11, 12, 1]\n",
      "r: [9, 5, 7, 6, 16, 11, 4, 17, 1]\n",
      "r: [10, 5, 12, 6, 3, 11, 15, 17, 18, 9, 14, 7, 13, 16, 8, 4, 2, 1]\n",
      "r: [11, 7, 1]\n",
      "r: [12, 11, 18, 7, 8, 1]\n",
      "r: [13, 17, 12, 4, 14, 11, 10, 16, 18, 6, 2, 7, 15, 5, 8, 9, 3, 1]\n",
      "r: [14, 6, 8, 17, 10, 7, 3, 4, 18, 5, 13, 11, 2, 9, 12, 16, 15, 1]\n",
      "r: [15, 16, 12, 9, 2, 11, 13, 5, 18, 4, 3, 7, 10, 17, 8, 6, 14, 1]\n",
      "r: [16, 9, 11, 5, 4, 7, 17, 6, 1]\n",
      "r: [17, 4, 11, 16, 6, 7, 5, 9, 1]\n",
      "r: [18, 1]\n",
      "Primitive roots: [2, 3, 10, 13, 14, 15]\n"
     ]
    }
   ],
   "source": [
    "primitive_roots = []\n",
    "p = pyip.inputNum(\"Enter a prime number: \")\n",
    "for a in range(2, p):\n",
    "    r = []\n",
    "    for i in range(1, p):\n",
    "        a_r = (a ** i) % p\n",
    "        if a_r not in r:\n",
    "            r.append(a_r)\n",
    "        else:\n",
    "            break\n",
    "#     print(f\"r: {r}\")\n",
    "    if len(r) == p - 1:\n",
    "        primitive_roots.append(a)\n",
    "print(f\"Primitive roots: {primitive_roots}\")\n",
    "        "
   ]
  },
  {
   "cell_type": "code",
   "execution_count": null,
   "metadata": {},
   "outputs": [],
   "source": []
  }
 ],
 "metadata": {
  "@webio": {
   "lastCommId": null,
   "lastKernelId": null
  },
  "kernelspec": {
   "display_name": "Python 3",
   "language": "python",
   "name": "python3"
  },
  "language_info": {
   "codemirror_mode": {
    "name": "ipython",
    "version": 3
   },
   "file_extension": ".py",
   "mimetype": "text/x-python",
   "name": "python",
   "nbconvert_exporter": "python",
   "pygments_lexer": "ipython3",
   "version": "3.7.3"
  }
 },
 "nbformat": 4,
 "nbformat_minor": 2
}
